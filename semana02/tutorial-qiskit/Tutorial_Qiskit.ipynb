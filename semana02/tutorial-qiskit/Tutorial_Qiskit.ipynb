{
 "cells": [
  {
   "cell_type": "markdown",
   "metadata": {},
   "source": [
    "<img src=\"qiskit_logo.png\" style=\"width:30%;height:30%\"/>"
   ]
  },
  {
   "cell_type": "markdown",
   "metadata": {},
   "source": [
    "# Grupo de pesquisa em Aprendizagem de Máquina e Computação Quântica - CIn UFPE (https://github.com/adjs/am-cq)\n",
    "## Tutorial Qiskit\n",
    "#### Nicolas Melo de Oliveira (nmo@cin.ufpe.br)"
   ]
  },
  {
   "cell_type": "markdown",
   "metadata": {},
   "source": [
    "### Qiskit - Quantum Information Software kit para simulação, compilação e execução de programas quânticos"
   ]
  },
  {
   "cell_type": "markdown",
   "metadata": {},
   "source": [
    "### - Instalação"
   ]
  },
  {
   "cell_type": "markdown",
   "metadata": {},
   "source": [
    "#### Aconselhável utilizar o Jupyter Notebook\n",
    "- Programar direto no browser\n",
    "- Permite inclusão de textos\n",
    "- Facilita visualização dos resultados"
   ]
  },
  {
   "cell_type": "markdown",
   "metadata": {},
   "source": [
    "#### Também é aconselhável o uso do Anaconda\n",
    "- Plataforma para computação científica em Python e R\n",
    "- Criação de ambientes virtuais específicos\n",
    "- Permite especificar versão do Python e conjunto de bibliotecas\n",
    "- Após a instalação: criar novo ambiente, abrir o terminal e pip install qiskit"
   ]
  },
  {
   "cell_type": "markdown",
   "metadata": {},
   "source": [
    "<img src=\"anaconda.png\" style=\"width:70%;height:70%\"/>"
   ]
  },
  {
   "cell_type": "markdown",
   "metadata": {},
   "source": [
    "#### Para execução em computadores quânticos da IBM\n",
    "- https://quantum-computing.ibm.com/\n",
    "- Criar conta\n",
    "- Obter API Token"
   ]
  },
  {
   "cell_type": "markdown",
   "metadata": {},
   "source": [
    "<img src=\"ibm.png\" style=\"width:35%;height:35%\"/>"
   ]
  },
  {
   "cell_type": "markdown",
   "metadata": {},
   "source": [
    "#### Circuit omposer\n",
    "- Testar circuitos quânticos simples\n",
    "- Não é útil para programas grandes\n",
    "- Gera, automaticamente, um código QASM (Linguagem de baixo nível desenvolvida pela IBM para representar circuitos quânticos)"
   ]
  },
  {
   "cell_type": "markdown",
   "metadata": {},
   "source": [
    "<img src=\"composer.png\" style=\"width:60%;height:60%\"/>"
   ]
  },
  {
   "cell_type": "markdown",
   "metadata": {},
   "source": [
    "### - Elementos do Qiskit (funcionalidades presentes e a serem incluídas)"
   ]
  },
  {
   "cell_type": "markdown",
   "metadata": {},
   "source": [
    "* ### Terra\n",
    "    - Voltado para o estudo a nível de circuito e pulsos\n",
    "    - Formalização de backends\n",
    "    - Provider (fornecer back-end para o usuário executar circuitos quânticos)\n",
    "    - Busca lidar melhor com a profundidade dos circuitos, tornando eles mais eficientes\n",
    "    - Objetiva tornar mais fácil a construção de circuitos complexos\n",
    "    - Possui 6 módulos principais:\n",
    "        - Circuit: lida com circuitos quânticos, qubits, registradores, portas lógicas e medições\n",
    "        - Pulse: nível mais baixo que o de circuitos, tratando de pulsos para representar portas lógicas; experimentos podem ser projetados nesse nível para reduzir erros\n",
    "        - Transpiler: conceito de gerenciador para permitir que usuários explorem a otimização e encontrem melhores circuitos quânticos para um dado algoritmo (para reduzir erros experimentais, por exemplo)\n",
    "        - Providers: maneira conveniente de lidar com a execução dos circuitos quânticos no backend, passando por 4 partes (provider, backend, job e result)\n",
    "        - Quantum Information: ferramentas para implementar tarefas simples de informação quântica; inclui métodos para estimar métricas e gerar estados, operações e canais quânticos\n",
    "        - Visualization: visualização do circuito e histograma"
   ]
  },
  {
   "cell_type": "markdown",
   "metadata": {},
   "source": [
    "* ### Aer\n",
    "    - Lida com backends do simulador\n",
    "    - Possui as implementações dos simuladores (QASM, statevector e unitário)\n",
    "    - Provê otimização para os simuladores\n",
    "    - Backends mais eficientes para circuitos específicos\n",
    "    - Ferramentas de aproximação de ruído\n",
    "        - Construção de modelos de ruído altamente configuráveis para realizar simulações ruidosas realistas dos erros que ocorrem durante a execução em dispositivos reais"
   ]
  },
  {
   "cell_type": "markdown",
   "metadata": {},
   "source": [
    "* ### Ignis\n",
    "    - Para quem deseja estudar o ruído (mitigando ou tirando proveito dele)\n",
    "    - Destinado àqueles que desejam projetar códigos de correção quântica de erros\n",
    "    - Conjunto de ferramentas para caracterização de erros\n",
    "    - Aprimoramento das portas lógicas\n",
    "    - Aprimoramento da computação na presença de ruído\n",
    "    - Tomografia de estado quântico\n",
    "    - Randomização de circuito\n",
    "    - Mitigação de erro (melhorar resultados de experimentos de química quântica)"
   ]
  },
  {
   "cell_type": "markdown",
   "metadata": {},
   "source": [
    "* ### Aqua\n",
    "    - Para desenvolvimento de aplicações para computadores NISQ (Noisy Intermediate-Scale Quantum devices)\n",
    "    - Biblioteca de algoritmos e aplicações quânticas (Grover, Deutsch-Jozsa, Simon, HHL, estimação de amplitude/fase, kernel quântico SVM e algoritmos para aprendizado supervisionado)\n",
    "    - Otimizadores, oráculos, Transformada Quântica de Fourier\n",
    "    - Suporte para Química, Inteligência Artificial, Otimização e Finanças\n",
    "    - É extensível e permite que os pesquisadores contribuam com suas próprias implementações de novos algoritmos e componentes\n",
    "    - Melhoramentos de desempenho dos algoritmos quânticos para execução em simuladores e hardware quântico real\n",
    "    - Suporte para execução em hardware quântico"
   ]
  },
  {
   "cell_type": "markdown",
   "metadata": {},
   "source": [
    "## Criando circuitos básicos"
   ]
  },
  {
   "cell_type": "markdown",
   "metadata": {},
   "source": [
    "### - Imports"
   ]
  },
  {
   "cell_type": "code",
   "execution_count": 6,
   "metadata": {},
   "outputs": [],
   "source": [
    "from qiskit import *\n",
    "from qiskit.tools.visualization import *\n",
    "from qiskit.tools.monitor import job_monitor"
   ]
  },
  {
   "cell_type": "markdown",
   "metadata": {},
   "source": [
    "### - Inicializando registradores e circuito quântico\n",
    "- $n$ e $m$ são as quantidade de qubits/bits presentes em cada registrador, quântico e clássico, respectivamente"
   ]
  },
  {
   "cell_type": "code",
   "execution_count": 3,
   "metadata": {},
   "outputs": [],
   "source": [
    "n = 2\n",
    "m = 2\n",
    "\n",
    "q = QuantumRegister(n)\n",
    "c = ClassicalRegister(m)\n",
    "\n",
    "circuito = QuantumCircuit(q, c)"
   ]
  },
  {
   "cell_type": "markdown",
   "metadata": {},
   "source": [
    "### - Aplicando portas lógicas\n",
    "- Portas lógicas recebem o índice do qubit onde serão aplicadas\n",
    "- Por exemplo, a porta CNOT recebe o índice do qubit de $controle$ e o índice do qubit $alvo$"
   ]
  },
  {
   "cell_type": "code",
   "execution_count": 4,
   "metadata": {},
   "outputs": [
    {
     "data": {
      "text/plain": [
       "<qiskit.circuit.instructionset.InstructionSet at 0x7f2977438ac8>"
      ]
     },
     "execution_count": 4,
     "metadata": {},
     "output_type": "execute_result"
    }
   ],
   "source": [
    "circuito.h(q[0])\n",
    "circuito.cx(q[0], q[1])\n",
    "circuito.swap(q[0],q[1])"
   ]
  },
  {
   "cell_type": "markdown",
   "metadata": {},
   "source": [
    "### - Realizando medições\n",
    "- A medição irá ler um qubit do registrador quântico e escrever o resultado obtido em um bit clássico"
   ]
  },
  {
   "cell_type": "code",
   "execution_count": 18,
   "metadata": {},
   "outputs": [
    {
     "data": {
      "text/plain": [
       "<qiskit.circuit.instructionset.InstructionSet at 0x7f2977269d30>"
      ]
     },
     "execution_count": 18,
     "metadata": {},
     "output_type": "execute_result"
    }
   ],
   "source": [
    "circuito.measure(q[0], c[0])\n",
    "circuito.measure(q[1], c[1])"
   ]
  },
  {
   "cell_type": "markdown",
   "metadata": {},
   "source": [
    "### - Visualizando o ciruito\n",
    "- Existem algumas alternativas:\n",
    "    - print(circuito)\n",
    "    - circuito.draw(output='mpl')\n",
    "    - circuito.draw(output='latex')\n",
    "    - circuit_drawer(circuito)"
   ]
  },
  {
   "cell_type": "code",
   "execution_count": 19,
   "metadata": {},
   "outputs": [
    {
     "data": {
      "image/png": "[encoded data removed]",
      "text/plain": [
       "<Figure size 468.356x204.68 with 1 Axes>"
      ]
     },
     "execution_count": 19,
     "metadata": {},
     "output_type": "execute_result"
    }
   ],
   "source": [
    "circuito.draw(output='mpl')"
   ]
  },
  {
   "cell_type": "markdown",
   "metadata": {},
   "source": [
    "### - Visualizando código QASM do circuito"
   ]
  },
  {
   "cell_type": "code",
   "execution_count": 20,
   "metadata": {},
   "outputs": [
    {
     "name": "stdout",
     "output_type": "stream",
     "text": [
      "OPENQASM 2.0;\n",
      "include \"qelib1.inc\";\n",
      "qreg q0[2];\n",
      "creg c0[2];\n",
      "h q0[0];\n",
      "cx q0[0],q0[1];\n",
      "swap q0[0],q0[1];\n",
      "measure q0[0] -> c0[0];\n",
      "measure q0[1] -> c0[1];\n",
      "\n"
     ]
    }
   ],
   "source": [
    "print(circuito.qasm())"
   ]
  },
  {
   "cell_type": "markdown",
   "metadata": {},
   "source": [
    "### - Obtendo a lista de backends disponíveis (para execução em computadores quânticos reais)"
   ]
  },
  {
   "cell_type": "code",
   "execution_count": 21,
   "metadata": {},
   "outputs": [
    {
     "name": "stdout",
     "output_type": "stream",
     "text": [
      "Found 1 credentials.\n",
      "No credentials available for updating could be found. No action will be performed.\n",
      "Warnings:\n",
      "The stored account with url \"https://auth.quantum-computing.ibm.com/api\" is already an IBM Q Experience v2 account.\n"
     ]
    }
   ],
   "source": [
    "IBMQ.update_account()"
   ]
  },
  {
   "cell_type": "code",
   "execution_count": 22,
   "metadata": {},
   "outputs": [
    {
     "name": "stdout",
     "output_type": "stream",
     "text": [
      "[<IBMQSimulator('ibmq_qasm_simulator') from IBMQ(hub='ibm-q', group='open', project='main')>, <IBMQBackend('ibmqx2') from IBMQ(hub='ibm-q', group='open', project='main')>, <IBMQBackend('ibmq_16_melbourne') from IBMQ(hub='ibm-q', group='open', project='main')>, <IBMQBackend('ibmq_vigo') from IBMQ(hub='ibm-q', group='open', project='main')>, <IBMQBackend('ibmq_ourense') from IBMQ(hub='ibm-q', group='open', project='main')>]\n"
     ]
    }
   ],
   "source": [
    "IBMQ.load_account()\n",
    "provider = IBMQ.get_provider(group='open')\n",
    "backends = provider.backends()\n",
    "print(backends)"
   ]
  },
  {
   "cell_type": "markdown",
   "metadata": {},
   "source": [
    "### - Obtendo a lista de backends disponíveis (para execução em simuladores)\n",
    "- qasm_simulator: simulação fiel ao computador quântico real (precisa ter uma medição)\n",
    "- statevector_simulator: simulação visando obter as amplitudes do estado final\n",
    "- unitary_simulator: obtenção da matriz unitária correspondente ao circuito (não pode ter medições)"
   ]
  },
  {
   "cell_type": "code",
   "execution_count": 23,
   "metadata": {},
   "outputs": [
    {
     "name": "stdout",
     "output_type": "stream",
     "text": [
      "[<QasmSimulatorPy('qasm_simulator') from BasicAer()>, <StatevectorSimulatorPy('statevector_simulator') from BasicAer()>, <UnitarySimulatorPy('unitary_simulator') from BasicAer()>]\n"
     ]
    }
   ],
   "source": [
    "print(BasicAer.backends())"
   ]
  },
  {
   "cell_type": "markdown",
   "metadata": {},
   "source": [
    "### - Execução com o qasm_simulator\n",
    "- print(contagem) exibe os valores de saída e quantas vezes eles foram obtidos\n",
    "- A indexação é da direita para a esquerda. Assim, measure(q[0], c[0]) vai salvar o resultado da medição no bit mais a direita"
   ]
  },
  {
   "cell_type": "code",
   "execution_count": 25,
   "metadata": {},
   "outputs": [
    {
     "name": "stdout",
     "output_type": "stream",
     "text": [
      "{'00': 507, '11': 517}\n"
     ]
    }
   ],
   "source": [
    "simulador = BasicAer.get_backend('qasm_simulator')\n",
    "job = execute(circuito, simulador, shots=1024)\n",
    "resultado = job.result()\n",
    "contagem = resultado.get_counts()\n",
    "print(contagem)"
   ]
  },
  {
   "cell_type": "markdown",
   "metadata": {},
   "source": [
    "### - Execução com o statevector_simulator"
   ]
  },
  {
   "cell_type": "code",
   "execution_count": 26,
   "metadata": {},
   "outputs": [],
   "source": [
    "#simulador = BasicAer.get_backend('statevector_simulator')\n",
    "#job = execute(circuito, simulador)\n",
    "#resultado = job.result()\n",
    "#estado = resultado.get_statevector()\n",
    "#plot_state_city(estado)\n",
    "#print(estado)"
   ]
  },
  {
   "cell_type": "markdown",
   "metadata": {},
   "source": [
    "### - Execução com o unitary_simulator"
   ]
  },
  {
   "cell_type": "code",
   "execution_count": 27,
   "metadata": {},
   "outputs": [],
   "source": [
    "#simulador = BasicAer.get_backend('unitary_simulator')\n",
    "#job = execute(circuito, simulador)\n",
    "#resultado = job.result()\n",
    "#matriz = resultado.get_unitary()\n",
    "#print(matriz)"
   ]
  },
  {
   "cell_type": "markdown",
   "metadata": {},
   "source": [
    "### - Exibindo histograma referente ao resultado obtido"
   ]
  },
  {
   "cell_type": "code",
   "execution_count": 28,
   "metadata": {},
   "outputs": [
    {
     "data": {
      "image/png": "[encoded data removed]",
      "text/plain": [
       "<Figure size 504x360 with 1 Axes>"
      ]
     },
     "execution_count": 28,
     "metadata": {},
     "output_type": "execute_result"
    }
   ],
   "source": [
    "plot_histogram(contagem)"
   ]
  },
  {
   "cell_type": "markdown",
   "metadata": {},
   "source": [
    "### - Salvando API Token da conta IBM\n",
    "- Necessário apenas uma única vez"
   ]
  },
  {
   "cell_type": "code",
   "execution_count": 30,
   "metadata": {},
   "outputs": [],
   "source": [
    "IBMQ.save_account('colar API Token aqui')"
   ]
  },
  {
   "cell_type": "markdown",
   "metadata": {},
   "source": [
    "### - Obter status do computador quântico"
   ]
  },
  {
   "cell_type": "code",
   "execution_count": 34,
   "metadata": {},
   "outputs": [
    {
     "data": {
      "text/plain": [
       "BackendStatus(backend_name='ibmq_16_melbourne', backend_version='1.0.0', operational=True, pending_jobs=1, status_msg='active')"
      ]
     },
     "execution_count": 34,
     "metadata": {},
     "output_type": "execute_result"
    }
   ],
   "source": [
    "ibmq16 = provider.get_backend('ibmq_16_melbourne')\n",
    "ibmq16.status()"
   ]
  },
  {
   "cell_type": "markdown",
   "metadata": {},
   "source": [
    "### - Obter mapa de conectividade dos qubits"
   ]
  },
  {
   "cell_type": "code",
   "execution_count": 35,
   "metadata": {},
   "outputs": [
    {
     "data": {
      "image/png": "[encoded data removed]",
      "text/plain": [
       "<Figure size 648x216 with 1 Axes>"
      ]
     },
     "execution_count": 35,
     "metadata": {},
     "output_type": "execute_result"
    }
   ],
   "source": [
    "plot_gate_map(ibmq16)"
   ]
  },
  {
   "cell_type": "markdown",
   "metadata": {},
   "source": [
    "### - Execução direta em computador quântico da IBM\n",
    "- A requisição de execução entra em uma fila\n",
    "- Pode demorar muito até a execução ocorrer\n",
    "- IMPORTANTE - observar na sua conta quantas execuções estão na fila e quais máquinas estão online\n",
    "- job_monitor(job) mostra a posição do job em tempo real. IMPORTANTE - se a conexão com a internet for interrompida, o job é cancelado"
   ]
  },
  {
   "cell_type": "code",
   "execution_count": null,
   "metadata": {},
   "outputs": [],
   "source": [
    "maquina_ibmqx16 = IBMQ.get_backend('ibmq_16_melbourne')\n",
    "job = execute(circuito, maquina_ibmqx16, shots=1024)\n",
    "\n",
    "job_monitor(job)\n",
    "\n",
    "resultado = job.result()\n",
    "contagem = resultado.get_counts()\n",
    "print(contagem)"
   ]
  },
  {
   "cell_type": "markdown",
   "metadata": {},
   "source": [
    "## Exemplo - Algoritmo de Deutsch-Jozsa"
   ]
  },
  {
   "cell_type": "markdown",
   "metadata": {},
   "source": [
    "<img src=\"deutsch.png\" style=\"width:50%;height:50%\"/>"
   ]
  },
  {
   "cell_type": "markdown",
   "metadata": {},
   "source": [
    "### - O algoritmo:\n",
    "- No problema da Deutsch-Jozsa, recebemos um computador quântico de caixa preta conhecido como $oráculo$ que implementa alguma função $f:\\left \\{ 0,1 \\right \\}^{n}\\rightarrow \\left \\{ 0,1 \\right \\}$\n",
    "- A função aceita valores binários de n dígitos como entrada e produz 0 ou 1 como saída para cada valor\n",
    "- Existe uma promessa de que:\n",
    "    - Se a função for constante, leremos 0 na medição\n",
    "    - Se a função for balanceada, leremos um valor diferente de 0 na medição"
   ]
  },
  {
   "cell_type": "markdown",
   "metadata": {},
   "source": [
    "### - Implementação de uma função balanceada:\n",
    "$f(00)=f(11)=0$\n",
    "\n",
    "$f(01)=f(10)=1$\n",
    "\n",
    "-----------------------------------\n",
    "\n",
    "$00,0\\rightarrow00,0$\n",
    "\n",
    "$00,1\\rightarrow00,1$\n",
    "\n",
    "$01,0\\rightarrow01,1$\n",
    "\n",
    "$01,1\\rightarrow01,0$\n",
    "\n",
    "$10,0\\rightarrow10,1$\n",
    "\n",
    "$10,1\\rightarrow10,0$\n",
    "\n",
    "$11,0\\rightarrow11,0$\n",
    "\n",
    "$11,1\\rightarrow11,1$"
   ]
  },
  {
   "cell_type": "markdown",
   "metadata": {},
   "source": [
    "### - Imports, inicialização dos registradores clássicos e quânticos, inicialização do circuito e aplicação das portas lógicas para preparação do estado onde será aplicado $U_{f}$"
   ]
  },
  {
   "cell_type": "code",
   "execution_count": 37,
   "metadata": {},
   "outputs": [
    {
     "data": {
      "text/plain": [
       "<qiskit.circuit.instructionset.InstructionSet at 0x7f2976f51940>"
      ]
     },
     "execution_count": 37,
     "metadata": {},
     "output_type": "execute_result"
    }
   ],
   "source": [
    "from qiskit import *\n",
    "from qiskit.tools.visualization import plot_histogram\n",
    "\n",
    "q = QuantumRegister(3)\n",
    "c = ClassicalRegister(2)\n",
    "\n",
    "circuito = QuantumCircuit(q, c)\n",
    "\n",
    "circuito.x(q[2])\n",
    "circuito.barrier()\n",
    "\n",
    "circuito.h(q[0])\n",
    "circuito.h(q[1])\n",
    "circuito.h(q[2])\n",
    "circuito.barrier()"
   ]
  },
  {
   "cell_type": "markdown",
   "metadata": {},
   "source": [
    "### - Aplicação de $U_{f}$. Nesse caso, temos 2 opções equivalentes:\n",
    "- Aplicar uma porta Toffoli ativada por 0 no 1º qubit e por 1 no 2º qubit e aplicar outra porta Toffoli ativada por 1 no 1º qubit e por 0 no 2º qubit\n",
    "- Aplicar uma porta CNOT com controle no 1º qubit e alvo no 3º qubit e aplicar outra porta CNOT com controle no 2º qubit e alvo no 3º qubit"
   ]
  },
  {
   "cell_type": "markdown",
   "metadata": {},
   "source": [
    "### - $U_{f} 1$"
   ]
  },
  {
   "cell_type": "code",
   "execution_count": 38,
   "metadata": {},
   "outputs": [
    {
     "data": {
      "text/plain": [
       "<qiskit.circuit.instructionset.InstructionSet at 0x7f2976f514a8>"
      ]
     },
     "execution_count": 38,
     "metadata": {},
     "output_type": "execute_result"
    }
   ],
   "source": [
    "circuito.x(q[0])\n",
    "circuito.ccx(q[0],q[1],q[2])\n",
    "circuito.x(q[0])\n",
    "circuito.barrier()\n",
    "\n",
    "circuito.x(q[1])\n",
    "circuito.ccx(q[0],q[1],q[2])\n",
    "circuito.x(q[1])\n",
    "circuito.barrier()"
   ]
  },
  {
   "cell_type": "markdown",
   "metadata": {},
   "source": [
    "### - $U_{f} 2$"
   ]
  },
  {
   "cell_type": "code",
   "execution_count": 39,
   "metadata": {},
   "outputs": [],
   "source": [
    "#circuito.cx(q[0],q[2])\n",
    "#circuito.barrier()\n",
    "\n",
    "#circuito.cx(q[1],q[2])\n",
    "#circuito.barrier()"
   ]
  },
  {
   "cell_type": "markdown",
   "metadata": {},
   "source": [
    "### - Aplicação de Hadamard e medição nos 2 primeiros qubits"
   ]
  },
  {
   "cell_type": "code",
   "execution_count": 40,
   "metadata": {},
   "outputs": [
    {
     "data": {
      "text/plain": [
       "<qiskit.circuit.instructionset.InstructionSet at 0x7f2977012e10>"
      ]
     },
     "execution_count": 40,
     "metadata": {},
     "output_type": "execute_result"
    }
   ],
   "source": [
    "circuito.h(q[0])\n",
    "circuito.h(q[1])\n",
    "circuito.barrier()\n",
    "\n",
    "circuito.measure(q[0],c[0])\n",
    "circuito.measure(q[1],c[1])"
   ]
  },
  {
   "cell_type": "markdown",
   "metadata": {},
   "source": [
    "### - Visualização do circuito"
   ]
  },
  {
   "cell_type": "code",
   "execution_count": 41,
   "metadata": {},
   "outputs": [
    {
     "data": {
      "image/png": "[encoded data removed]",
      "text/plain": [
       "<Figure size 1130.56x264.88 with 1 Axes>"
      ]
     },
     "execution_count": 41,
     "metadata": {},
     "output_type": "execute_result"
    }
   ],
   "source": [
    "circuito.draw(output='mpl')"
   ]
  },
  {
   "cell_type": "markdown",
   "metadata": {},
   "source": [
    "### - Simulação"
   ]
  },
  {
   "cell_type": "code",
   "execution_count": 42,
   "metadata": {},
   "outputs": [
    {
     "name": "stdout",
     "output_type": "stream",
     "text": [
      "{'11': 1024}\n"
     ]
    }
   ],
   "source": [
    "simulador = BasicAer.get_backend('qasm_simulator')\n",
    "job = execute(circuito, simulador, shots=1024)\n",
    "resultado = job.result()\n",
    "contagem = resultado.get_counts()\n",
    "\n",
    "print(contagem)"
   ]
  },
  {
   "cell_type": "markdown",
   "metadata": {},
   "source": [
    "##### Referências:\n",
    "\n",
    "* https://qiskit.org/documentation/\n",
    "* https://github.com/Qiskit/qiskit-iqx-tutorials\n",
    "* https://qiskit.org/\n",
    "* https://github.com/QISKit\n",
    "* https://jupyter.org\n",
    "* https://www.anaconda.com/distribution/\n",
    "* https://quantum-computing.ibm.com/\n",
    "* https://github.com/Qiskit/qiskit-ibmq-provider#updating-to-the-new-ibm-q-experience\n",
    "* https://nbviewer.jupyter.org/github/Qiskit/qiskit-iqx-tutorials/tree/master/qiskit/"
   ]
  }
 ],
 "metadata": {
  "kernelspec": {
   "display_name": "Python 3",
   "language": "python",
   "name": "python3"
  },
  "language_info": {
   "codemirror_mode": {
    "name": "ipython",
    "version": 3
   },
   "file_extension": ".py",
   "mimetype": "text/x-python",
   "name": "python",
   "nbconvert_exporter": "python",
   "pygments_lexer": "ipython3",
   "version": "3.6.8"
  }
 },
 "nbformat": 4,
 "nbformat_minor": 2
}
